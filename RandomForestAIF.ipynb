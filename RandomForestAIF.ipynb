{
  "nbformat": 4,
  "nbformat_minor": 0,
  "metadata": {
    "colab": {
      "name": "RandomForestAIF.ipynb",
      "provenance": [],
      "collapsed_sections": [],
      "authorship_tag": "ABX9TyMVezXD5xVgFbJ/JeASqlhG",
      "include_colab_link": true
    },
    "kernelspec": {
      "name": "python3",
      "display_name": "Python 3"
    },
    "language_info": {
      "name": "python"
    }
  },
  "cells": [
    {
      "cell_type": "markdown",
      "metadata": {
        "id": "view-in-github",
        "colab_type": "text"
      },
      "source": [
        "<a href=\"https://colab.research.google.com/github/RafaRojasH/AI-Finanzas/blob/main/RandomForestAIF.ipynb\" target=\"_parent\"><img src=\"https://colab.research.google.com/assets/colab-badge.svg\" alt=\"Open In Colab\"/></a>"
      ]
    },
    {
      "cell_type": "markdown",
      "source": [
        "### Random Forest\n"
      ],
      "metadata": {
        "id": "doBAriOVUNX8"
      }
    },
    {
      "cell_type": "markdown",
      "source": [
        "Librerias"
      ],
      "metadata": {
        "id": "c9WAijTKUOIC"
      }
    },
    {
      "cell_type": "code",
      "execution_count": 1,
      "metadata": {
        "id": "xZ-D-sWxULVF"
      },
      "outputs": [],
      "source": [
        "import pandas as pd\n",
        "import numpy as np\n",
        "import matplotlib.pyplot as plt\n",
        "from pandas import read_csv\n",
        "from sklearn import metrics\n",
        "from sklearn.model_selection import train_test_split\n",
        "from sklearn.ensemble import RandomForestRegressor\n",
        "from sklearn.preprocessing import StandardScaler\n",
        "from sklearn.model_selection import RandomizedSearchCV\n",
        "plt.style.use('bmh')\n",
        "from google.colab import files\n",
        "from google.colab import drive"
      ]
    },
    {
      "cell_type": "markdown",
      "source": [
        "Cargar datos"
      ],
      "metadata": {
        "id": "jui5fFuuUzEu"
      }
    },
    {
      "cell_type": "code",
      "source": [
        "drive.mount('/content/drive')\n",
        "df = pd.read_csv('/content/drive/MyDrive/Colab Notebooks/BA_05_07_2021_25_11_2021.csv')\n",
        "df.set_index(\"Date\", inplace=True)\n",
        "df.dropna(inplace=True)"
      ],
      "metadata": {
        "colab": {
          "base_uri": "https://localhost:8080/"
        },
        "id": "XZ-BoG5zU1gd",
        "outputId": "e8646741-f3c7-4818-c5d0-0cd01c53a506"
      },
      "execution_count": 69,
      "outputs": [
        {
          "output_type": "stream",
          "name": "stdout",
          "text": [
            "Drive already mounted at /content/drive; to attempt to forcibly remount, call drive.mount(\"/content/drive\", force_remount=True).\n"
          ]
        }
      ]
    },
    {
      "cell_type": "markdown",
      "source": [
        "Obtener los datos del rendimiento\n",
        "$$rendimiento = \\frac{Precio_{actual}-Precio_{anterior}}{Precio_{anterior}}$$"
      ],
      "metadata": {
        "id": "DDa7XEKwa-NY"
      }
    },
    {
      "cell_type": "code",
      "source": [
        "rendimiento = []\n",
        "rendimiento.append(0.0)\n",
        "#df['Rendimiento'][0] = np.float64(0)\n",
        "for i in range(1, len(df)):\n",
        "    P_actual = df['Close'][i]\n",
        "    P_anterior = df['Close'][i - 1]\n",
        "    rendimiento.append(float((P_actual - P_anterior) / P_anterior))\n",
        "df['Rendmiento'] = rendimiento"
      ],
      "metadata": {
        "id": "EKDQ4M-KbP_4"
      },
      "execution_count": 72,
      "outputs": []
    },
    {
      "cell_type": "markdown",
      "source": [
        "Preparar datos para entrada y salida"
      ],
      "metadata": {
        "id": "zr4ZPjD-VRy6"
      }
    },
    {
      "cell_type": "code",
      "source": [
        "x = df.iloc[:, df.columns.size-1:df.columns.size].values\n",
        "y = df.iloc[:, df.columns.size-1].values"
      ],
      "metadata": {
        "id": "3b_VwKU8Vbhq"
      },
      "execution_count": 73,
      "outputs": []
    },
    {
      "cell_type": "markdown",
      "source": [
        "Crear conjuntos de entrenamiento y prueba"
      ],
      "metadata": {
        "id": "MTReD4XlVsHu"
      }
    },
    {
      "cell_type": "code",
      "source": [
        "x_train, x_test, y_train, y_test = train_test_split(x, y, test_size=0.26,  random_state=0)\n",
        "scale = StandardScaler()\n",
        "x_train = scale.fit_transform(x_train)\n",
        "x_test = scale.transform(x_test)"
      ],
      "metadata": {
        "id": "QhCqANUOVzK4"
      },
      "execution_count": 74,
      "outputs": []
    },
    {
      "cell_type": "markdown",
      "source": [
        "Establecer parámetros para modelo de predicción, para encontrar el mejor modelo"
      ],
      "metadata": {
        "id": "6_ilU0jKWIRD"
      }
    },
    {
      "cell_type": "code",
      "source": [
        "grid_rf = {\n",
        "'n_estimators': [20, 50, 100, 500, 1000],  \n",
        "'max_depth': np.arange(1, 15, 1),  \n",
        "'min_samples_split': [2, 10, 9], \n",
        "'min_samples_leaf': np.arange(1, 15, 2, dtype=int),  \n",
        "'bootstrap': [True, False], \n",
        "'random_state': [1, 2, 30, 42]\n",
        "}\n",
        "rscv = RandomizedSearchCV(estimator=RandomForestRegressor(), param_distributions=grid_rf, cv=3, n_jobs=-1, verbose=2, n_iter=200)\n",
        "rscv_fit = rscv.fit(x_train, y_train)\n",
        "best_parameters = rscv_fit.best_params_\n",
        "print(best_parameters)"
      ],
      "metadata": {
        "colab": {
          "base_uri": "https://localhost:8080/"
        },
        "id": "s2gtGupGWN3c",
        "outputId": "db85fcbb-a2db-487a-bf22-b92d8afeb5fd"
      },
      "execution_count": 75,
      "outputs": [
        {
          "output_type": "stream",
          "name": "stdout",
          "text": [
            "Fitting 3 folds for each of 200 candidates, totalling 600 fits\n",
            "{'random_state': 42, 'n_estimators': 1000, 'min_samples_split': 2, 'min_samples_leaf': 1, 'max_depth': 14, 'bootstrap': False}\n"
          ]
        }
      ]
    },
    {
      "cell_type": "markdown",
      "source": [
        "Aplicar el modelo con los mejores parámetros y realizar el entrenamiento"
      ],
      "metadata": {
        "id": "wGBEx7kTZaNz"
      }
    },
    {
      "cell_type": "code",
      "source": [
        "modelRandomForest = RandomForestRegressor(n_estimators=best_parameters['n_estimators'], random_state=best_parameters['random_state'], \n",
        "                              min_samples_split=best_parameters['min_samples_split'], min_samples_leaf=best_parameters['min_samples_leaf'],\n",
        "                              max_depth=best_parameters['max_depth'], bootstrap=best_parameters['bootstrap'])\n",
        "modelRandomForest.fit(x_train, y_train)"
      ],
      "metadata": {
        "colab": {
          "base_uri": "https://localhost:8080/"
        },
        "id": "9j7B-FWAZOGD",
        "outputId": "ca63247f-ad8f-4057-f54f-db35d1675322"
      },
      "execution_count": 76,
      "outputs": [
        {
          "output_type": "execute_result",
          "data": {
            "text/plain": [
              "RandomForestRegressor(bootstrap=False, max_depth=14, n_estimators=1000,\n",
              "                      random_state=42)"
            ]
          },
          "metadata": {},
          "execution_count": 76
        }
      ]
    },
    {
      "cell_type": "markdown",
      "source": [
        "Realizar la predicción con el conjunto de entrada de prueba"
      ],
      "metadata": {
        "id": "xqqAuqoWaJet"
      }
    },
    {
      "cell_type": "code",
      "source": [
        "predict = modelRandomForest.predict(x_test)"
      ],
      "metadata": {
        "id": "qEQ8nSGPaNef"
      },
      "execution_count": 77,
      "outputs": []
    },
    {
      "cell_type": "markdown",
      "source": [
        "Evaluar el rendimiento de la predicción"
      ],
      "metadata": {
        "id": "7dapadyeacUL"
      }
    },
    {
      "cell_type": "code",
      "source": [
        "errors = abs(predict - y_test)\n",
        "mape = 100 * (errors / y_test)\n",
        "accuracy = 100 - np.mean(mape)\n",
        "print('Accuracy:', round(accuracy, 2), '%.') \n",
        "print(\"Mean Absolute Error (MAE):\", round(metrics.mean_absolute_error(y_test, predict), 4))\n",
        "print(\"Mean Squared Error (MSE):\", round(metrics.mean_squared_error(y_test, predict), 4))\n",
        "print(\"Root Mean Squared Error (RMSE):\", round(np.sqrt(metrics.mean_squared_error(y_test, predict)), 4))\n",
        "print(\"R^2 Score:\", round(metrics.r2_score(y_test, predict), 4))\n",
        "print(\"Mean Absolute Percentage Error (MAPE):\", round(np.mean(np.abs((y_test-predict) / y_test)) * 100))\n",
        "print(\"Adjusted R^2 Score:\", round(1 - (((1-np.mean(np.abs((y_test-predict) / y_test)) * 100)*(len(y_test)-1)/(len(y_test)-1-1)))))\n",
        "#print(f'Train Score : {modelRandomForest.score(x_train, y_train) * 100:.2f}% and Test Score : {modelRandomForest.score(x_test, y_test) * 100:.2f}% using Random Tree Regressor.')"
      ],
      "metadata": {
        "colab": {
          "base_uri": "https://localhost:8080/"
        },
        "id": "Po7miFMMafI3",
        "outputId": "23ce18bf-6448-42c8-c112-cce01077f6c0"
      },
      "execution_count": 80,
      "outputs": [
        {
          "output_type": "stream",
          "name": "stdout",
          "text": [
            "Accuracy: 99.33 %.\n",
            "Mean Absolute Error (MAE): 0.0008\n",
            "Mean Squared Error (MSE): 0.0\n",
            "Root Mean Squared Error (RMSE): 0.0015\n",
            "R^2 Score: 0.9948\n",
            "Mean Absolute Percentage Error (MAPE): 7\n",
            "Adjusted R^2 Score: 8\n"
          ]
        }
      ]
    },
    {
      "cell_type": "code",
      "source": [
        ""
      ],
      "metadata": {
        "id": "sivC1u0NiF2E"
      },
      "execution_count": null,
      "outputs": []
    }
  ]
}